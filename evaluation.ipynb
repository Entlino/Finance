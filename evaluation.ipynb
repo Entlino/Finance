{
 "cells": [
  {
   "cell_type": "code",
   "execution_count": 5,
   "id": "f142d6e8-3837-466d-b08d-9dc06964220d",
   "metadata": {},
   "outputs": [
    {
     "name": "stderr",
     "output_type": "stream",
     "text": [
      "\n",
      "[notice] A new release of pip is available: 25.0.1 -> 25.1\n",
      "[notice] To update, run: python.exe -m pip install --upgrade pip\n"
     ]
    },
    {
     "name": "stdout",
     "output_type": "stream",
     "text": [
      "Collecting seaborn\n",
      "  Downloading seaborn-0.13.2-py3-none-any.whl.metadata (5.4 kB)\n",
      "Requirement already satisfied: numpy!=1.24.0,>=1.20 in c:\\users\\chris\\appdata\\local\\programs\\python\\python313\\lib\\site-packages (from seaborn) (2.2.1)\n",
      "Requirement already satisfied: pandas>=1.2 in c:\\users\\chris\\appdata\\local\\programs\\python\\python313\\lib\\site-packages (from seaborn) (2.2.3)\n",
      "Requirement already satisfied: matplotlib!=3.6.1,>=3.4 in c:\\users\\chris\\appdata\\local\\programs\\python\\python313\\lib\\site-packages (from seaborn) (3.10.0)\n",
      "Requirement already satisfied: contourpy>=1.0.1 in c:\\users\\chris\\appdata\\local\\programs\\python\\python313\\lib\\site-packages (from matplotlib!=3.6.1,>=3.4->seaborn) (1.3.1)\n",
      "Requirement already satisfied: cycler>=0.10 in c:\\users\\chris\\appdata\\local\\programs\\python\\python313\\lib\\site-packages (from matplotlib!=3.6.1,>=3.4->seaborn) (0.12.1)\n",
      "Requirement already satisfied: fonttools>=4.22.0 in c:\\users\\chris\\appdata\\local\\programs\\python\\python313\\lib\\site-packages (from matplotlib!=3.6.1,>=3.4->seaborn) (4.55.3)\n",
      "Requirement already satisfied: kiwisolver>=1.3.1 in c:\\users\\chris\\appdata\\local\\programs\\python\\python313\\lib\\site-packages (from matplotlib!=3.6.1,>=3.4->seaborn) (1.4.8)\n",
      "Requirement already satisfied: packaging>=20.0 in c:\\users\\chris\\appdata\\local\\programs\\python\\python313\\lib\\site-packages (from matplotlib!=3.6.1,>=3.4->seaborn) (24.2)\n",
      "Requirement already satisfied: pillow>=8 in c:\\users\\chris\\appdata\\local\\programs\\python\\python313\\lib\\site-packages (from matplotlib!=3.6.1,>=3.4->seaborn) (11.1.0)\n",
      "Requirement already satisfied: pyparsing>=2.3.1 in c:\\users\\chris\\appdata\\local\\programs\\python\\python313\\lib\\site-packages (from matplotlib!=3.6.1,>=3.4->seaborn) (3.2.1)\n",
      "Requirement already satisfied: python-dateutil>=2.7 in c:\\users\\chris\\appdata\\local\\programs\\python\\python313\\lib\\site-packages (from matplotlib!=3.6.1,>=3.4->seaborn) (2.9.0.post0)\n",
      "Requirement already satisfied: pytz>=2020.1 in c:\\users\\chris\\appdata\\local\\programs\\python\\python313\\lib\\site-packages (from pandas>=1.2->seaborn) (2024.2)\n",
      "Requirement already satisfied: tzdata>=2022.7 in c:\\users\\chris\\appdata\\local\\programs\\python\\python313\\lib\\site-packages (from pandas>=1.2->seaborn) (2024.2)\n",
      "Requirement already satisfied: six>=1.5 in c:\\users\\chris\\appdata\\local\\programs\\python\\python313\\lib\\site-packages (from python-dateutil>=2.7->matplotlib!=3.6.1,>=3.4->seaborn) (1.17.0)\n",
      "Downloading seaborn-0.13.2-py3-none-any.whl (294 kB)\n",
      "Installing collected packages: seaborn\n",
      "Successfully installed seaborn-0.13.2\n"
     ]
    }
   ],
   "source": [
    "import pandas as pd\n",
    "import numpy as np\n",
    "from sklearn.ensemble import RandomForestRegressor\n",
    "from sklearn.metrics import mean_squared_error, r2_score, mean_absolute_error, confusion_matrix, classification_report, precision_score, recall_score\n",
    "from sklearn.model_selection import train_test_split\n",
    "from sklearn.preprocessing import MinMaxScaler\n",
    "import matplotlib.pyplot as plt\n",
    "import seaborn as sns "
   ]
  },
  {
   "cell_type": "code",
   "execution_count": 6,
   "id": "c76a5483-25a6-4b78-bc7d-4bc123eefd4e",
   "metadata": {},
   "outputs": [
    {
     "name": "stdout",
     "output_type": "stream",
     "text": [
      "Daten erfolgreich für Ticker 'aapl' gefiltert: 8364 Zeilen gefunden.\n"
     ]
    }
   ],
   "source": [
    "try:\n",
    "    combined_df = pd.read_csv('combined_dataset.csv')\n",
    "except FileNotFoundError:\n",
    "    print(\"FEHLER: Stelle sicher, dass 'combined_dataset.csv' im selben Verzeichnis liegt.\")\n",
    "    raise\n",
    "\n",
    "ticker_symbol = 'aapl'\n",
    "aapl_df = combined_df[combined_df['Ticker'] == ticker_symbol].copy()\n",
    "\n",
    "if aapl_df.empty:\n",
    "    print(f\"FEHLER: Keine Daten für Ticker '{ticker_symbol}' gefunden.\")\n",
    "    raise ValueError(f\"Ticker {ticker_symbol} nicht im Datensatz.\")\n",
    "else:\n",
    "    print(f\"Daten erfolgreich für Ticker '{ticker_symbol}' gefiltert: {aapl_df.shape[0]} Zeilen gefunden.\")\n",
    "\n",
    "aapl_df['Date'] = pd.to_datetime(aapl_df['Date'])\n",
    "aapl_df.set_index('Date', inplace=True)\n",
    "aapl_df.sort_index(inplace=True)"
   ]
  },
  {
   "cell_type": "code",
   "execution_count": 7,
   "id": "afbc5b38-1eac-4b51-b5e5-61fee73ae5a5",
   "metadata": {},
   "outputs": [
    {
     "name": "stdout",
     "output_type": "stream",
     "text": [
      "Feature Engineering abgeschlossen (Log Returns, SMAs, Lagged Returns, Target).\n"
     ]
    }
   ],
   "source": [
    "aapl_df['Log_Return'] = np.log(aapl_df['Close'] / aapl_df['Close'].shift(1))\n",
    "\n",
    "aapl_df['SMA5'] = aapl_df['Close'].rolling(window=5).mean()\n",
    "aapl_df['SMA20'] = aapl_df['Close'].rolling(window=20).mean()\n",
    "\n",
    "aapl_df['Return_Lag1'] = aapl_df['Log_Return'].shift(1)\n",
    "aapl_df['Return_Lag2'] = aapl_df['Log_Return'].shift(2)\n",
    "aapl_df['Return_Lag5'] = aapl_df['Log_Return'].shift(5)\n",
    "\n",
    "aapl_df['Target'] = aapl_df['Log_Return'].shift(-1)\n",
    "\n",
    "print(\"Feature Engineering abgeschlossen (Log Returns, SMAs, Lagged Returns, Target).\")"
   ]
  },
  {
   "cell_type": "code",
   "execution_count": 8,
   "id": "70a0ef0c-a398-47fd-b803-27e4748a132f",
   "metadata": {},
   "outputs": [
    {
     "name": "stdout",
     "output_type": "stream",
     "text": [
      "\n",
      "Zeilen vor NaN-Entfernung (AAPL): 8364\n",
      "Zeilen nach NaN-Entfernung (AAPL): 8344 (20 entfernt)\n",
      "\n",
      "AAPL Trainingsdaten Grösse (Features): 8127 Zeilen\n",
      "AAPL Testdaten Grösse (Features): 217 Zeilen\n"
     ]
    }
   ],
   "source": [
    "features = ['Open', 'High', 'Low', 'Close', 'Volume',\n",
    "            'SMA5', 'SMA20',\n",
    "            'Return_Lag1', 'Return_Lag2', 'Return_Lag5']\n",
    "target_variable = 'Target'\n",
    "\n",
    "initial_rows = aapl_df.shape[0]\n",
    "aapl_df.dropna(subset=features + [target_variable], inplace=True)\n",
    "final_rows = aapl_df.shape[0]\n",
    "print(f\"\\nZeilen vor NaN-Entfernung (AAPL): {initial_rows}\")\n",
    "print(f\"Zeilen nach NaN-Entfernung (AAPL): {final_rows} ({initial_rows - final_rows} entfernt)\")\n",
    "\n",
    "X = aapl_df[features]\n",
    "y = aapl_df[target_variable]\n",
    "\n",
    "split_date = '2016-12-31'\n",
    "train_mask = X.index <= split_date\n",
    "test_mask = X.index > split_date\n",
    "\n",
    "X_train_raw = X[train_mask]\n",
    "y_train = y[train_mask]\n",
    "X_test_raw = X[test_mask]\n",
    "y_test = y[test_mask]\n",
    "\n",
    "if X_train_raw.empty or X_test_raw.empty:\n",
    "    print(\"FEHLER: AAPL Trainings- oder Testset ist leer nach NaN-Entfernung.\")\n",
    "else:\n",
    "    print(f\"\\nAAPL Trainingsdaten Grösse (Features): {X_train_raw.shape[0]} Zeilen\")\n",
    "    print(f\"AAPL Testdaten Grösse (Features): {X_test_raw.shape[0]} Zeilen\")"
   ]
  },
  {
   "cell_type": "code",
   "execution_count": 9,
   "id": "5c968457-30f3-4097-97c4-bfa12261d5d2",
   "metadata": {},
   "outputs": [
    {
     "name": "stdout",
     "output_type": "stream",
     "text": [
      "Features skaliert (MinMaxScaler).\n"
     ]
    }
   ],
   "source": [
    "scaler = MinMaxScaler()\n",
    "\n",
    "X_train = scaler.fit_transform(X_train_raw)\n",
    "X_test = scaler.transform(X_test_raw)\n",
    "\n",
    "X_train = pd.DataFrame(X_train, columns=features, index=X_train_raw.index)\n",
    "X_test = pd.DataFrame(X_test, columns=features, index=X_test_raw.index)\n",
    "\n",
    "print(\"Features skaliert (MinMaxScaler).\")\n"
   ]
  },
  {
   "cell_type": "code",
   "execution_count": 10,
   "id": "a1d69016-fb21-415d-acc8-74bafbecf3eb",
   "metadata": {},
   "outputs": [
    {
     "name": "stdout",
     "output_type": "stream",
     "text": [
      "\n",
      "Trainiere das RandomForestRegressor Modell (nur AAPL, mit Log-Returns)...\n",
      "Modell Training abgeschlossen. OOB Score: -0.0210\n"
     ]
    }
   ],
   "source": [
    "rf_model = RandomForestRegressor(n_estimators=200,\n",
    "                                 random_state=42,\n",
    "                                 n_jobs=-1,\n",
    "                                 max_depth=None,\n",
    "                                 min_samples_leaf=10,\n",
    "                                 max_features='sqrt',\n",
    "                                 oob_score=True\n",
    "                                )\n",
    "\n",
    "print(\"\\nTrainiere das RandomForestRegressor Modell (nur AAPL, mit Log-Returns)...\")\n",
    "if not X_train.empty and not y_train.empty:\n",
    "    rf_model.fit(X_train, y_train)\n",
    "    print(f\"Modell Training abgeschlossen. OOB Score: {rf_model.oob_score_:.4f}\")\n",
    "else:\n",
    "    print(\"FEHLER: Trainingsdaten sind leer, Training kann nicht durchgeführt werden.\")"
   ]
  },
  {
   "cell_type": "code",
   "execution_count": 11,
   "id": "1471fdd6-021a-41f1-b731-7aa5fa6ab5a5",
   "metadata": {},
   "outputs": [
    {
     "name": "stdout",
     "output_type": "stream",
     "text": [
      "\n",
      "Erstelle Vorhersagen für das AAPL Test-Set (Log-Returns)...\n",
      "Vorhersagen für Log-Returns und rekonstruierte Kurse erstellt.\n"
     ]
    }
   ],
   "source": [
    "predictions_log_return = None\n",
    "results_df = pd.DataFrame()\n",
    "\n",
    "if 'rf_model' in locals() and hasattr(rf_model, 'predict') and not X_test.empty:\n",
    "    print(\"\\nErstelle Vorhersagen für das AAPL Test-Set (Log-Returns)...\")\n",
    "    predictions_log_return = rf_model.predict(X_test)\n",
    "\n",
    "    actual_closes_test = aapl_df.loc[X_test_raw.index, 'Close']\n",
    "    try:\n",
    "        last_train_index = X_train_raw.index[-1]\n",
    "        last_train_close = aapl_df.loc[last_train_index, 'Close']\n",
    "    except IndexError:\n",
    "        print(\"Warnung: Konnte letzten Trainingskurs nicht finden, verwende Fallback.\")\n",
    "        last_train_close = aapl_df['Close'].iloc[len(X_train_raw) - 1]\n",
    "\n",
    "    previous_actual_closes = actual_closes_test.shift(1).fillna(last_train_close)\n",
    "    previous_actual_closes = previous_actual_closes.reindex(X_test_raw.index)\n",
    "    predicted_closes = previous_actual_closes * np.exp(predictions_log_return)\n",
    "\n",
    "    results_df = pd.DataFrame({\n",
    "        'Actual_Close': actual_closes_test,\n",
    "        'Predicted_Close': predicted_closes,\n",
    "        'Actual_Log_Return': y_test,\n",
    "        'Predicted_Log_Return': predictions_log_return\n",
    "    }, index=y_test.index)\n",
    "    print(\"Vorhersagen für Log-Returns und rekonstruierte Kurse erstellt.\")\n",
    "\n",
    "else:\n",
    "    print(\"\\nFEHLER: Modell nicht trainiert oder keine Testdaten vorhanden. Vorhersage übersprungen.\")"
   ]
  },
  {
   "cell_type": "markdown",
   "id": "47310512-d43d-4028-82a9-082cb8b02323",
   "metadata": {},
   "source": [
    "## Aufgabe 4"
   ]
  },
  {
   "cell_type": "code",
   "execution_count": 12,
   "id": "4e205543-9fef-458a-9baa-e3ba5979e643",
   "metadata": {},
   "outputs": [
    {
     "name": "stdout",
     "output_type": "stream",
     "text": [
      "\n",
      "Feature Importances (Random Forest):\n",
      "       Feature  Importance\n",
      "7  Return_Lag1    0.131594\n",
      "9  Return_Lag5    0.129910\n",
      "4       Volume    0.125723\n",
      "8  Return_Lag2    0.124197\n",
      "6        SMA20    0.100197\n",
      "5         SMA5    0.084167\n",
      "3        Close    0.078441\n",
      "2          Low    0.075786\n",
      "1         High    0.075587\n",
      "0         Open    0.074398\n"
     ]
    },
    {
     "data": {
      "image/png": "[encoded data removed]",
      "text/plain": [
       "<Figure size 1000x600 with 1 Axes>"
      ]
     },
     "metadata": {},
     "output_type": "display_data"
    },
    {
     "name": "stdout",
     "output_type": "stream",
     "text": [
      "\n",
      "Interpretation:\n",
      "Die obige Tabelle und Grafik zeigen die relative Wichtigkeit jedes Features für die Vorhersagen des Modells.\n",
      "Das wichtigste Feature ist 'Return_Lag1' mit einer Importance von 0.1316.\n",
      "Features mit höherer Importance haben einen größeren Einfluss auf die Modellentscheidungen.\n"
     ]
    }
   ],
   "source": [
    "if 'rf_model' in locals() and hasattr(rf_model, 'feature_importances_'):\n",
    "    importances = rf_model.feature_importances_\n",
    "    feature_names = features # Aus Zelle 3\n",
    "    feature_importance_df = pd.DataFrame({'Feature': feature_names, 'Importance': importances})\n",
    "    feature_importance_df = feature_importance_df.sort_values(by='Importance', ascending=False)\n",
    "\n",
    "    print(\"\\nFeature Importances (Random Forest):\")\n",
    "    print(feature_importance_df)\n",
    "\n",
    "    plt.figure(figsize=(10, 6))\n",
    "    plt.barh(feature_importance_df['Feature'], feature_importance_df['Importance'])\n",
    "    plt.xlabel('Importance')\n",
    "    plt.ylabel('Feature')\n",
    "    plt.title('Feature Importance für AAPL Log-Return Vorhersage')\n",
    "    plt.gca().invert_yaxis()\n",
    "    plt.show()\n",
    "\n",
    "    print(\"\\nInterpretation:\")\n",
    "    print(\"Die obige Tabelle und Grafik zeigen die relative Wichtigkeit jedes Features für die Vorhersagen des Modells.\")\n",
    "    print(f\"Das wichtigste Feature ist '{feature_importance_df.iloc[0]['Feature']}' mit einer Importance von {feature_importance_df.iloc[0]['Importance']:.4f}.\")\n",
    "    print(\"Features mit höherer Importance haben einen größeren Einfluss auf die Modellentscheidungen.\")\n",
    "else:\n",
    "    print(\"Modell ('rf_model') wurde nicht trainiert oder unterstützt keine Feature Importances.\")"
   ]
  },
  {
   "cell_type": "code",
   "execution_count": 14,
   "id": "0bedbcba-5246-4dde-908c-8960455e71a0",
   "metadata": {},
   "outputs": [
    {
     "name": "stdout",
     "output_type": "stream",
     "text": [
      "\n",
      "Metriken berechnet auf den vorhergesagten Log-Returns:\n",
      "Mean Absolute Error (MAE): 0.008803\n",
      "Root Mean Squared Error (RMSE): 0.012348\n",
      "R² (Bestimmtheitsmaß): -0.2332\n",
      "\n",
      "Metriken berechnet auf den rekonstruierten Kursen:\n",
      "Mean Absolute Error (MAE): 1.2936\n",
      "Root Mean Squared Error (RMSE): 1.8243\n",
      "R² (Bestimmtheitsmaß): 0.9807\n",
      "\n",
      "Auswahl und Begründung der Metrik:\n",
      "Für Regressionsprobleme wie die Vorhersage von Log-Returns sind MAE und RMSE gängige Metriken.\n",
      "- MAE (Mean Absolute Error): Misst den durchschnittlichen absoluten Fehler. Ist in der Einheit der Zielvariable (Log-Return) und daher oft gut interpretierbar.\n",
      "- RMSE (Root Mean Squared Error): Bestraft größere Fehler stärker als MAE. Ebenfalls in der Einheit der Zielvariable.\n",
      "- R² (Bestimmtheitsmaß): Gibt an, wie viel Prozent der Varianz der Zielvariable durch das Modell erklärt wird. Werte nahe 1 sind gut, Werte nahe 0 oder negativ deuten auf ein schlechtes Modell hin.\n",
      "\n",
      "Gewählte Metrik: MAE für die Log-Returns.\n",
      "Begründung: MAE ist robust gegenüber Ausreißern und direkt in der Einheit der Renditen interpretierbar, was den durchschnittlichen Vorhersagefehler greifbar macht.\n",
      "Berechneter MAE (Log-Returns): 0.008803\n",
      "\n",
      "Zur besseren finanziellen Interpretation wird oft auch der MAE auf den rekonstruierten Kursen betrachtet:\n",
      "Berechneter MAE (Kurse): 1.2936\n"
     ]
    }
   ],
   "source": [
    "if predictions_log_return is not None and not y_test.empty:\n",
    "\n",
    "    mae_log = mean_absolute_error(y_test, predictions_log_return)\n",
    "    rmse_log = np.sqrt(mean_squared_error(y_test, predictions_log_return))\n",
    "    r2_log = r2_score(y_test, predictions_log_return)\n",
    "\n",
    "    print(f\"\\nMetriken berechnet auf den vorhergesagten Log-Returns:\")\n",
    "    print(f\"Mean Absolute Error (MAE): {mae_log:.6f}\")\n",
    "    print(f\"Root Mean Squared Error (RMSE): {rmse_log:.6f}\")\n",
    "    print(f\"R² (Bestimmtheitsmaß): {r2_log:.4f}\")\n",
    "\n",
    "    if not results_df.empty:\n",
    "         mae_price = mean_absolute_error(results_df['Actual_Close'], results_df['Predicted_Close'])\n",
    "         rmse_price = np.sqrt(mean_squared_error(results_df['Actual_Close'], results_df['Predicted_Close']))\n",
    "         r2_price = r2_score(results_df['Actual_Close'], results_df['Predicted_Close'])\n",
    "\n",
    "         print(f\"\\nMetriken berechnet auf den rekonstruierten Kursen:\")\n",
    "         print(f\"Mean Absolute Error (MAE): {mae_price:.4f}\")\n",
    "         print(f\"Root Mean Squared Error (RMSE): {rmse_price:.4f}\")\n",
    "         print(f\"R² (Bestimmtheitsmaß): {r2_price:.4f}\")\n",
    "    else:\n",
    "        print(\"\\nRekonstruierte Kurse nicht verfügbar für Metrikberechnung.\")\n",
    "        mae_price = np.nan # Definieren, um Fehler zu vermeiden\n",
    "\n",
    "    print(\"\\nAuswahl und Begründung der Metrik:\")\n",
    "    print(\"Für Regressionsprobleme wie die Vorhersage von Log-Returns sind MAE und RMSE gängige Metriken.\")\n",
    "    print(\"- MAE (Mean Absolute Error): Misst den durchschnittlichen absoluten Fehler. Ist in der Einheit der Zielvariable (Log-Return) und daher oft gut interpretierbar.\")\n",
    "    print(\"- RMSE (Root Mean Squared Error): Bestraft größere Fehler stärker als MAE. Ebenfalls in der Einheit der Zielvariable.\")\n",
    "    print(\"- R² (Bestimmtheitsmaß): Gibt an, wie viel Prozent der Varianz der Zielvariable durch das Modell erklärt wird. Werte nahe 1 sind gut, Werte nahe 0 oder negativ deuten auf ein schlechtes Modell hin.\")\n",
    "\n",
    "    print(\"\\nGewählte Metrik: MAE für die Log-Returns.\")\n",
    "    print(\"Begründung: MAE ist robust gegenüber Ausreißern und direkt in der Einheit der Renditen interpretierbar, was den durchschnittlichen Vorhersagefehler greifbar macht.\")\n",
    "    print(f\"Berechneter MAE (Log-Returns): {mae_log:.6f}\")\n",
    "    if not np.isnan(mae_price):\n",
    "        print(\"\\nZur besseren finanziellen Interpretation wird oft auch der MAE auf den rekonstruierten Kursen betrachtet:\")\n",
    "        print(f\"Berechneter MAE (Kurse): {mae_price:.4f}\")\n",
    "\n",
    "else:\n",
    "    print(\"Vorhersagen ('predictions_log_return') oder Testdaten ('y_test') nicht gefunden. Metrikberechnung übersprungen.\")\n",
    "    mae_log = np.nan\n",
    "    mae_price = np.nan"
   ]
  },
  {
   "cell_type": "code",
   "execution_count": 16,
   "id": "6de72f05-df68-4897-9fc3-65950ec2cc63",
   "metadata": {},
   "outputs": [
    {
     "name": "stdout",
     "output_type": "stream",
     "text": [
      "\n",
      "Wahrheitsmatrix (Confusion Matrix) für die Richtungsvorhersage (1=Up, 0=Down/Flat):\n",
      "         Predicted Down/Flat  | Predicted Up\n",
      "-------------------------------------------------\n",
      "Actual Down/Flat | 91                   | 3              \n",
      "Actual Up        | 120                  | 3              \n"
     ]
    },
    {
     "data": {
      "image/png": "[encoded data removed]",
      "text/plain": [
       "<Figure size 600x400 with 2 Axes>"
      ]
     },
     "metadata": {},
     "output_type": "display_data"
    },
    {
     "name": "stdout",
     "output_type": "stream",
     "text": [
      "\n",
      "Recall (für Kursanstiege, Klasse 1): 0.0244\n",
      "Precision (für Kursanstiege, Klasse 1): 0.5000\n",
      "\n",
      "Gesamter Klassifikationsbericht:\n",
      "               precision    recall  f1-score   support\n",
      "\n",
      "Down/Flat (0)       0.43      0.97      0.60        94\n",
      "       Up (1)       0.50      0.02      0.05       123\n",
      "\n",
      "     accuracy                           0.43       217\n",
      "    macro avg       0.47      0.50      0.32       217\n",
      " weighted avg       0.47      0.43      0.28       217\n",
      "\n"
     ]
    }
   ],
   "source": [
    "if predictions_log_return is not None and not y_test.empty:\n",
    "    threshold = 0\n",
    "    y_test_binary = (y_test > threshold).astype(int)        \n",
    "    predictions_binary = (predictions_log_return > threshold).astype(int) \n",
    "\n",
    "    print(\"\\nWahrheitsmatrix (Confusion Matrix) für die Richtungsvorhersage (1=Up, 0=Down/Flat):\")\n",
    "    cm = confusion_matrix(y_test_binary, predictions_binary)\n",
    "    print(\"         Predicted Down/Flat  | Predicted Up\")\n",
    "    print(\"-------------------------------------------------\")\n",
    "    print(f\"Actual Down/Flat | {cm[0, 0]:<20} | {cm[0, 1]:<15}\")\n",
    "    print(f\"Actual Up        | {cm[1, 0]:<20} | {cm[1, 1]:<15}\")\n",
    "\n",
    "    plt.figure(figsize=(6, 4))\n",
    "    sns.heatmap(cm, annot=True, fmt='d', cmap='Blues',\n",
    "                xticklabels=['Predicted Down/Flat', 'Predicted Up'],\n",
    "                yticklabels=['Actual Down/Flat', 'Actual Up'])\n",
    "    plt.xlabel('Predicted Label')\n",
    "    plt.ylabel('True Label')\n",
    "    plt.title('Confusion Matrix für Richtungsvorhersage')\n",
    "    plt.show()\n",
    "\n",
    "    recall = recall_score(y_test_binary, predictions_binary, pos_label=1, zero_division=0)\n",
    "    precision = precision_score(y_test_binary, predictions_binary, pos_label=1, zero_division=0)\n",
    "\n",
    "    print(f\"\\nRecall (für Kursanstiege, Klasse 1): {recall:.4f}\")\n",
    "    print(f\"Precision (für Kursanstiege, Klasse 1): {precision:.4f}\")\n",
    "\n",
    "    print(\"\\nGesamter Klassifikationsbericht:\")\n",
    "    print(classification_report(y_test_binary, predictions_binary, target_names=['Down/Flat (0)', 'Up (1)'], zero_division=0))\n",
    "\n",
    "else:\n",
    "    print(\"Vorhersagen ('predictions_log_return') oder Testdaten ('y_test') nicht gefunden. Berechnung übersprungen.\")\n",
    "    recall = np.nan\n",
    "    precision = np.nan"
   ]
  },
  {
   "cell_type": "markdown",
   "id": "36b1e781-3665-4498-921c-6e3c832185a9",
   "metadata": {},
   "source": [
    "Mein Modell hat schlussendlich nicht allzu gut funktioniert, was aber auch vorhersehbar gewesen ist, denn es ist ja so das es noch niemand auf der Welt geschafft hat Aktienkurse konsistent vorherzusagen. Aufgrund des leicht negativen R² lässt sich schliessen, dass es effizienter gewesen wäre den Durchschnitt zu nehmen um die zukünftigen Kurse zu berechnen. Basierend auf dem Precisionmass, sieht man das es 50/50 ist das die vorhergesagten Kursveränderungen auch eintreffen, somit wäre es mehr oder weniger dasselbe ob man auf das Modell vertraut oder ob man eine Münze wirft. Zum einen hat es einen Einfluss darauf das das Modell nicht weiss was gerade in der Welt passiert denn dies hat starke auswirkungen auf den Aktienmarkt. Zum anderm könnte es sein das die Entscheidungsbäume nicht tief genug waren obwohl ich diese bereits angepasst habe."
   ]
  }
 ],
 "metadata": {
  "kernelspec": {
   "display_name": "Python 3 (ipykernel)",
   "language": "python",
   "name": "python3"
  },
  "language_info": {
   "codemirror_mode": {
    "name": "ipython",
    "version": 3
   },
   "file_extension": ".py",
   "mimetype": "text/x-python",
   "name": "python",
   "nbconvert_exporter": "python",
   "pygments_lexer": "ipython3",
   "version": "3.13.1"
  }
 },
 "nbformat": 4,
 "nbformat_minor": 5
}
